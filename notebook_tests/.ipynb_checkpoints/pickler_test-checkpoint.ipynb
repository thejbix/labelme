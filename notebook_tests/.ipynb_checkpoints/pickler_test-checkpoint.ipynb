{
 "cells": [
  {
   "cell_type": "code",
   "execution_count": 1,
   "metadata": {},
   "outputs": [],
   "source": [
    "import pickle"
   ]
  },
  {
   "cell_type": "code",
   "execution_count": 14,
   "metadata": {},
   "outputs": [
    {
     "name": "stdout",
     "output_type": "stream",
     "text": [
      "<__main__.Test object at 0x104099b70>\n",
      "hello\n",
      "1\n"
     ]
    }
   ],
   "source": [
    "class Something:\n",
    "    x = 1\n",
    "\n",
    "class Test:\n",
    "    hello = \"hello\"\n",
    "    question = \"Yes\"\n",
    "    things = [Something(), Something()]\n",
    "\n",
    "\n",
    "\n",
    "test = Test()\n",
    "print(test)\n",
    "print(test.hello)\n",
    "print(test.things[0].x)"
   ]
  },
  {
   "cell_type": "code",
   "execution_count": 15,
   "metadata": {},
   "outputs": [],
   "source": [
    "with open(\"testin.dat\", 'wb') as f:\n",
    "    pickle.dump(test,f)"
   ]
  },
  {
   "cell_type": "code",
   "execution_count": 17,
   "metadata": {},
   "outputs": [
    {
     "name": "stdout",
     "output_type": "stream",
     "text": [
      "<__main__.Test object at 0x104099630>\n",
      "hello\n",
      "1\n"
     ]
    }
   ],
   "source": [
    "with open(\"testin.dat\", 'rb') as f:\n",
    "    new_data = pickle.load(f)\n",
    "\n",
    "print(new_data)\n",
    "print(new_data.hello)\n",
    "print(new_data.things[0].x)"
   ]
  },
  {
   "cell_type": "markdown",
   "metadata": {},
   "source": [
    "This works but lacks the flexibility to respond to class attribute changes, class renames, or changes."
   ]
  },
  {
   "cell_type": "code",
   "execution_count": 20,
   "metadata": {},
   "outputs": [],
   "source": [
    "test2 = {'version':'0.0.1', \"data\": Something()}"
   ]
  },
  {
   "cell_type": "code",
   "execution_count": 21,
   "metadata": {},
   "outputs": [],
   "source": [
    "with open(\"testin.dat\", 'wb') as f:\n",
    "    pickle.dump(test2,f)"
   ]
  },
  {
   "cell_type": "code",
   "execution_count": 22,
   "metadata": {},
   "outputs": [],
   "source": [
    "# attribute change\n",
    "class Something:\n",
    "    y = 1"
   ]
  },
  {
   "cell_type": "code",
   "execution_count": 23,
   "metadata": {},
   "outputs": [],
   "source": [
    "with open(\"testin.dat\", 'rb') as f:\n",
    "    new_data = pickle.load(f)"
   ]
  },
  {
   "cell_type": "code",
   "execution_count": 24,
   "metadata": {},
   "outputs": [
    {
     "name": "stdout",
     "output_type": "stream",
     "text": [
      "{'version': '0.0.1', 'data': <__main__.Something object at 0x104099748>}\n"
     ]
    }
   ],
   "source": [
    "print(new_data)\n",
    "print(new_data.d)"
   ]
  },
  {
   "cell_type": "markdown",
   "metadata": {},
   "source": [
    "### Worry about this another day. Come back to it.  Worry about persisting data later for offline use.  "
   ]
  }
 ],
 "metadata": {
  "kernelspec": {
   "display_name": "Python 3",
   "language": "python",
   "name": "python3"
  },
  "language_info": {
   "codemirror_mode": {
    "name": "ipython",
    "version": 3
   },
   "file_extension": ".py",
   "mimetype": "text/x-python",
   "name": "python",
   "nbconvert_exporter": "python",
   "pygments_lexer": "ipython3",
   "version": "3.6.0"
  }
 },
 "nbformat": 4,
 "nbformat_minor": 2
}
