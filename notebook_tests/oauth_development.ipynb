{
 "cells": [
  {
   "cell_type": "code",
   "execution_count": 15,
   "metadata": {},
   "outputs": [],
   "source": [
    "import requests_oauthlib\n",
    "import requests\n",
    "import yaml"
   ]
  },
  {
   "cell_type": "code",
   "execution_count": 69,
   "metadata": {},
   "outputs": [],
   "source": [
    "client_id = 'zLjOtEumL2rurN5YsNMuKRK9PR5wuLPrBGQTSQvmf5U'\n",
    "client_secret = 'PJ6aLnVpAC77Ad7-Yg1coVCGm1zbNH1znk8MMWprm8Q'\n",
    "redirect_uri = 'cowcounteroauth://connect/callback'\n",
    "base = 'https://8ddebc78.ngrok.io'\n",
    "authorization_uri = base + \"/oauth/authorize\"\n",
    "token_uri = base + \"/oauth/token\"\n",
    "scope = \"user\"\n",
    "\n",
    "\n"
   ]
  },
  {
   "cell_type": "code",
   "execution_count": 70,
   "metadata": {},
   "outputs": [
    {
     "name": "stdout",
     "output_type": "stream",
     "text": [
      "{'CowCounterAPI': {'name': 'CowCounter', 'base_path': 'https://8ddebc78.ngrok.io', 'client_id': 'zLjOtEumL2rurN5YsNMuKRK9PR5wuLPrBGQTSQvmf5U', 'client_secret': 'PJ6aLnVpAC77Ad7-Yg1coVCGm1zbNH1znk8MMWprm8Q', 'authorize_uri': '/oauth/token', 'token_uri': '/oauth/token'}}\n",
      "zLjOtEumL2rurN5YsNMuKRK9PR5wuLPrBGQTSQvmf5U\n"
     ]
    }
   ],
   "source": [
    "from requests_oauthlib import OAuth2Session\n",
    "from oauthlib.oauth2 import LegacyApplicationClient\n",
    "\n",
    "oauth = OAuth2Session(client=LegacyApplicationClient(client_id=client_id), scope=scope)\n",
    "\n",
    "token = oauth.fetch_token(\n",
    "    token_url=token_uri, \n",
    "    username=\"jaydonbixenman@hotmail.com\", \n",
    "    password=\"password\", \n",
    "    client_id=client_id, \n",
    "    client_secret=client_secret)\n",
    "\n",
    "    \n",
    "secrets = None\n",
    "with open(\"../labelme/config/secrets.yaml\", 'r') as stream:\n",
    "    try:\n",
    "        secrets = yaml.safe_load(stream)\n",
    "        print(secrets)\n",
    "    except yaml.YAMLError as exc:\n",
    "        print(exc)\n",
    "        \n",
    "print(secrets['CowCounterAPI']['client_id'])\n"
   ]
  },
  {
   "cell_type": "code",
   "execution_count": 71,
   "metadata": {},
   "outputs": [
    {
     "name": "stdout",
     "output_type": "stream",
     "text": [
      "{'access_token': 'dsiuac0ftRmGJZBs-g8jSbQyFjTT1JGOqzq8d85O6E0', 'token_type': 'Bearer', 'expires_in': 7200, 'refresh_token': 'ybwhiViZA30H0lLaYjsXR3KXUZinKw77RNjqm_1dF6c', 'scope': ['user'], 'created_at': 1571947549, 'expires_at': 1571954749.4630709}\n",
      "<class 'oauthlib.oauth2.rfc6749.tokens.OAuth2Token'>\n"
     ]
    }
   ],
   "source": [
    "print(token)\n",
    "print(type(token))"
   ]
  },
  {
   "cell_type": "code",
   "execution_count": 72,
   "metadata": {},
   "outputs": [
    {
     "data": {
      "text/plain": [
       "{'access_token': 'VizuT-IvyGaIyYnf2Rxb9idCFd1f-Ma8uSv4XpmTgDM',\n",
       " 'token_type': 'Bearer',\n",
       " 'expires_in': 7200,\n",
       " 'refresh_token': 'XOVSzqs0ItONl-N8InxVDF9rTAcnDfTbs-ZKqKm0uCA',\n",
       " 'scope': ['user'],\n",
       " 'created_at': 1571947553,\n",
       " 'expires_at': 1571954753.396394}"
      ]
     },
     "execution_count": 72,
     "metadata": {},
     "output_type": "execute_result"
    }
   ],
   "source": [
    "#print(token['refresh_token'])\n",
    "oauth.refresh_token(token_uri, refresh_token=token['refresh_token'], client_id=client_id, client_secret=client_secret)"
   ]
  },
  {
   "cell_type": "code",
   "execution_count": 73,
   "metadata": {},
   "outputs": [],
   "source": [
    "url = base + '/api/v1/users/profile'\n",
    "oauth = OAuth2Session(client=LegacyApplicationClient(client_id=client_id, client_secret=client_secret), scope=scope, token=token)\n",
    "\n"
   ]
  },
  {
   "cell_type": "code",
   "execution_count": 74,
   "metadata": {},
   "outputs": [],
   "source": [
    "response = oauth.get(url)"
   ]
  },
  {
   "cell_type": "code",
   "execution_count": 75,
   "metadata": {},
   "outputs": [
    {
     "name": "stdout",
     "output_type": "stream",
     "text": [
      "<Response [200]>\n"
     ]
    }
   ],
   "source": [
    "print(response)"
   ]
  },
  {
   "cell_type": "code",
   "execution_count": 77,
   "metadata": {},
   "outputs": [
    {
     "name": "stdout",
     "output_type": "stream",
     "text": [
      "<Response [200]>\n",
      "None\n"
     ]
    }
   ],
   "source": [
    "print(response)\n",
    "\n",
    "print(response.json())\n"
   ]
  },
  {
   "cell_type": "code",
   "execution_count": null,
   "metadata": {},
   "outputs": [],
   "source": []
  }
 ],
 "metadata": {
  "kernelspec": {
   "display_name": "Python 3",
   "language": "python",
   "name": "python3"
  },
  "language_info": {
   "codemirror_mode": {
    "name": "ipython",
    "version": 3
   },
   "file_extension": ".py",
   "mimetype": "text/x-python",
   "name": "python",
   "nbconvert_exporter": "python",
   "pygments_lexer": "ipython3",
   "version": "3.6.0"
  }
 },
 "nbformat": 4,
 "nbformat_minor": 2
}
