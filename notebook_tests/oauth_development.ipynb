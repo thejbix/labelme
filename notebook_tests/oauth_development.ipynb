{
 "cells": [
  {
   "cell_type": "code",
   "execution_count": 8,
   "metadata": {},
   "outputs": [],
   "source": [
    "import requests_oauthlib\n",
    "import requests\n",
    "import yaml"
   ]
  },
  {
   "cell_type": "code",
   "execution_count": 9,
   "metadata": {},
   "outputs": [
    {
     "name": "stdout",
     "output_type": "stream",
     "text": [
      "{'CowCounterAPI': {'name': 'CowCounter', 'base_path': 'https://8ddebc78.ngrok.io', 'client_id': 'zLjOtEumL2rurN5YsNMuKRK9PR5wuLPrBGQTSQvmf5U', 'client_secret': 'PJ6aLnVpAC77Ad7-Yg1coVCGm1zbNH1znk8MMWprm8Q', 'authorize_uri': '/oauth/token', 'token_uri': '/oauth/token'}}\n",
      "zLjOtEumL2rurN5YsNMuKRK9PR5wuLPrBGQTSQvmf5U\n"
     ]
    }
   ],
   "source": [
    "client_id = 'zLjOtEumL2rurN5YsNMuKRK9PR5wuLPrBGQTSQvmf5U'\n",
    "client_secret = 'PJ6aLnVpAC77Ad7-Yg1coVCGm1zbNH1znk8MMWprm8Q'\n",
    "redirect_uri = 'cowcounteroauth://connect/callback'\n",
    "base = 'https://8ddebc78.ngrok.io'\n",
    "authorization_uri = base + \"/oauth/authorize\"\n",
    "token_uri = base + \"/oauth/token\"\n",
    "scope = \"user\"\n",
    "\n",
    "secrets = None\n",
    "with open(\"../labelme/config/secrets.yaml\", 'r') as stream:\n",
    "    try:\n",
    "        secrets = yaml.safe_load(stream)\n",
    "        print(secrets)\n",
    "    except yaml.YAMLError as exc:\n",
    "        print(exc)\n",
    "        \n",
    "print(secrets['CowCounterAPI']['client_id'])\n"
   ]
  },
  {
   "cell_type": "code",
   "execution_count": 13,
   "metadata": {},
   "outputs": [
    {
     "name": "stdout",
     "output_type": "stream",
     "text": [
      "failed\n"
     ]
    }
   ],
   "source": [
    "from requests_oauthlib import OAuth2Session\n",
    "from oauthlib.oauth2 import LegacyApplicationClient\n",
    "\n",
    "oauth = OAuth2Session(client=LegacyApplicationClient(client_id=client_id), scope=scope)\n",
    "try:\n",
    "    token = oauth.fetch_token(\n",
    "        token_url=token_uri, \n",
    "        username=\"jaydonbixenma@hotmail.com\", \n",
    "        password=\"password\", \n",
    "        client_id=client_id, \n",
    "        client_secret=client_secret)\n",
    "except:\n",
    "    print(\"failed\")\n",
    "    \n",
    "\n"
   ]
  },
  {
   "cell_type": "code",
   "execution_count": 11,
   "metadata": {},
   "outputs": [
    {
     "name": "stdout",
     "output_type": "stream",
     "text": [
      "{'access_token': 'r2MlRvGe4__uqLsp3H2z8tTSp3CzPWCBXKAshfTYyqU', 'token_type': 'Bearer', 'expires_in': 7200, 'refresh_token': 'b_Owlz8GMGK5HibF1mWchC7OvpgwFMU6DAV_veBKgwc', 'scope': ['user'], 'created_at': 1571857316, 'expires_at': 1571864516.739894}\n",
      "<class 'oauthlib.oauth2.rfc6749.tokens.OAuth2Token'>\n"
     ]
    }
   ],
   "source": [
    "print(token)\n",
    "print(type(token))"
   ]
  },
  {
   "cell_type": "code",
   "execution_count": 14,
   "metadata": {},
   "outputs": [
    {
     "data": {
      "text/plain": [
       "{'access_token': 'tJHA5zVXLcrM8wsTF6L7IkevvUJgSWuUrQvxZK_GlKo',\n",
       " 'token_type': 'Bearer',\n",
       " 'expires_in': 7200,\n",
       " 'refresh_token': 'K5dzWgd0FAVTpeZEBXpSKDhZ9o_GWH4CoVr9T9o5idE',\n",
       " 'scope': ['user'],\n",
       " 'created_at': 1571857803,\n",
       " 'expires_at': 1571865003.4998882}"
      ]
     },
     "execution_count": 14,
     "metadata": {},
     "output_type": "execute_result"
    }
   ],
   "source": [
    "#print(token['refresh_token'])\n",
    "oauth.refresh_token(token_uri, refresh_token=token['refresh_token'], client_id=client_id, client_secret=client_secret)"
   ]
  },
  {
   "cell_type": "code",
   "execution_count": null,
   "metadata": {},
   "outputs": [],
   "source": []
  },
  {
   "cell_type": "code",
   "execution_count": null,
   "metadata": {},
   "outputs": [],
   "source": []
  }
 ],
 "metadata": {
  "kernelspec": {
   "display_name": "Python 3",
   "language": "python",
   "name": "python3"
  },
  "language_info": {
   "codemirror_mode": {
    "name": "ipython",
    "version": 3
   },
   "file_extension": ".py",
   "mimetype": "text/x-python",
   "name": "python",
   "nbconvert_exporter": "python",
   "pygments_lexer": "ipython3",
   "version": "3.6.0"
  }
 },
 "nbformat": 4,
 "nbformat_minor": 2
}
