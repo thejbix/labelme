{
 "cells": [
  {
   "cell_type": "code",
   "execution_count": 1,
   "metadata": {},
   "outputs": [],
   "source": [
    "import requests_oauthlib\n",
    "import requests"
   ]
  },
  {
   "cell_type": "code",
   "execution_count": 9,
   "metadata": {},
   "outputs": [],
   "source": [
    "client_id = 'zLjOtEumL2rurN5YsNMuKRK9PR5wuLPrBGQTSQvmf5U'\n",
    "client_secret = 'PJ6aLnVpAC77Ad7-Yg1coVCGm1zbNH1znk8MMWprm8Q'\n",
    "redirect_uri = 'cowcounteroauth://connect/callback'\n",
    "base = 'https://b76dccdb.ngrok.io'\n",
    "authorization_uri = base + \"/oauth/authorize\"\n",
    "token_uri = base + \"/oauth/token\"\n",
    "scope = \"user\"\n",
    "\n"
   ]
  },
  {
   "cell_type": "code",
   "execution_count": 3,
   "metadata": {},
   "outputs": [],
   "source": [
    "oauth = requests_oauthlib.OAuth2Session(client_id, redirect_uri=redirect_uri, scope=scope)\n",
    "\n",
    "authorization_url, state = oauth.authorization_url(authorization_uri)"
   ]
  },
  {
   "cell_type": "code",
   "execution_count": 4,
   "metadata": {},
   "outputs": [
    {
     "name": "stdout",
     "output_type": "stream",
     "text": [
      "https://b76dccdb.ngrok.io/oauth/authorize?response_type=code&client_id=zLjOtEumL2rurN5YsNMuKRK9PR5wuLPrBGQTSQvmf5U&redirect_uri=cowcounteroauth%3A%2F%2Fconnect%2Fcallback&scope=user&state=gnq35WbzexrSv8I25rE1z7ij93Osww\n",
      "gnq35WbzexrSv8I25rE1z7ij93Osww\n"
     ]
    }
   ],
   "source": [
    "print(authorization_url)\n",
    "print(state)\n"
   ]
  },
  {
   "cell_type": "code",
   "execution_count": 5,
   "metadata": {},
   "outputs": [
    {
     "name": "stdout",
     "output_type": "stream",
     "text": [
      "Enter the full callback URLcowcounteroauth://connect/callback?code=iRJDGtfP2Z7LAeEMUmh1SQ5xxhOfPUzpbPs0OaFPvo0&state=gnq35WbzexrSv8I25rE1z7ij93Osww\n"
     ]
    }
   ],
   "source": [
    "authorization_response = input('Enter the full callback URL')"
   ]
  },
  {
   "cell_type": "code",
   "execution_count": 6,
   "metadata": {},
   "outputs": [
    {
     "name": "stdout",
     "output_type": "stream",
     "text": [
      "https://b76dccdb.ngrok.io/oauth/callback?code=iRJDGtfP2Z7LAeEMUmh1SQ5xxhOfPUzpbPs0OaFPvo0&state=gnq35WbzexrSv8I25rE1z7ij93Osww\n"
     ]
    }
   ],
   "source": [
    "authorization_response = \"https://b76dccdb.ngrok.io/oauth/callback?code=iRJDGtfP2Z7LAeEMUmh1SQ5xxhOfPUzpbPs0OaFPvo0&state=gnq35WbzexrSv8I25rE1z7ij93Osww\"\n",
    "print(authorization_response)\n",
    "code = authorization_response"
   ]
  },
  {
   "cell_type": "code",
   "execution_count": 7,
   "metadata": {},
   "outputs": [],
   "source": [
    "\n",
    "token = oauth.fetch_token(\n",
    "    token_uri,\n",
    "    authorization_response=code,\n",
    "    client_secret=client_secret)"
   ]
  },
  {
   "cell_type": "code",
   "execution_count": 8,
   "metadata": {},
   "outputs": [
    {
     "name": "stdout",
     "output_type": "stream",
     "text": [
      "{'access_token': 'Pmx-ZyBXge4IRl7EnSy8DRx4bLOKpmfPDfJFiYmoRTA', 'token_type': 'Bearer', 'expires_in': 7200, 'refresh_token': 'El3OIvSBFOuYN8-BtUgG_dkNl7NPOoQOkyuY1ofcnZo', 'scope': ['user'], 'created_at': 1571252144, 'expires_at': 1571259344.9926322}\n"
     ]
    }
   ],
   "source": [
    "print(token)"
   ]
  },
  {
   "cell_type": "code",
   "execution_count": null,
   "metadata": {},
   "outputs": [],
   "source": [
    "r = oauth.get(base)"
   ]
  },
  {
   "cell_type": "code",
   "execution_count": 7,
   "metadata": {},
   "outputs": [],
   "source": [
    "from requests_oauthlib import OAuth2Session\n",
    "from flask import Flask, request, redirect, session, url_for\n",
    "from flask.json import jsonify\n",
    "\n",
    "app = Flask(__name__)"
   ]
  },
  {
   "cell_type": "code",
   "execution_count": 8,
   "metadata": {},
   "outputs": [],
   "source": [
    "@app.route(\"/login\")\n",
    "def login():\n",
    "    oauth = OAuth2Session(client_id, scope=scope)\n",
    "    authorization_url, state = oauth.authorization_url(authorization_uri)\n",
    "    session['oauth_state'] = state\n",
    "    return redirect(authorization_url)\n",
    "    "
   ]
  },
  {
   "cell_type": "code",
   "execution_count": 10,
   "metadata": {},
   "outputs": [],
   "source": [
    "from oauthlib.oauth2 import MobileApplicationClient\n",
    "from requests_oauthlib import OAuth2Session\n"
   ]
  },
  {
   "cell_type": "code",
   "execution_count": 11,
   "metadata": {},
   "outputs": [],
   "source": [
    "oauth = OAuth2Session(client=MobileApplicationClient(client_id=client_id), scope=scope)\n",
    "authorization_url, state = oauth.authorization_url(authorization_uri)"
   ]
  },
  {
   "cell_type": "code",
   "execution_count": 12,
   "metadata": {},
   "outputs": [
    {
     "name": "stdout",
     "output_type": "stream",
     "text": [
      "https://b76dccdb.ngrok.io/oauth/authorize?response_type=token&client_id=zLjOtEumL2rurN5YsNMuKRK9PR5wuLPrBGQTSQvmf5U&scope=user&state=Zt8EBoZjCrqgSiGOtWOK3bUEi21uLU\n"
     ]
    }
   ],
   "source": [
    "print(authorization_url)\n"
   ]
  },
  {
   "cell_type": "code",
   "execution_count": 13,
   "metadata": {},
   "outputs": [],
   "source": [
    "response = oauth.get(authorization_url)"
   ]
  },
  {
   "cell_type": "code",
   "execution_count": 15,
   "metadata": {},
   "outputs": [
    {
     "name": "stdout",
     "output_type": "stream",
     "text": [
      "<Response [200]>\n",
      "https://b76dccdb.ngrok.io/users/sign_in\n"
     ]
    }
   ],
   "source": [
    "print(response)\n",
    "print(response.url)"
   ]
  },
  {
   "cell_type": "code",
   "execution_count": 16,
   "metadata": {},
   "outputs": [
    {
     "ename": "ValueError",
     "evalue": "Mismatching or missing state in params.",
     "output_type": "error",
     "traceback": [
      "\u001b[0;31m---------------------------------------------------------------------------\u001b[0m",
      "\u001b[0;31mValueError\u001b[0m                                Traceback (most recent call last)",
      "\u001b[0;32m<ipython-input-16-58b7b6078927>\u001b[0m in \u001b[0;36m<module>\u001b[0;34m\u001b[0m\n\u001b[0;32m----> 1\u001b[0;31m \u001b[0moauth\u001b[0m\u001b[0;34m.\u001b[0m\u001b[0mtoken_from_fragment\u001b[0m\u001b[0;34m(\u001b[0m\u001b[0mresponse\u001b[0m\u001b[0;34m.\u001b[0m\u001b[0murl\u001b[0m\u001b[0;34m)\u001b[0m\u001b[0;34m\u001b[0m\u001b[0;34m\u001b[0m\u001b[0m\n\u001b[0m",
      "\u001b[0;32m~/miniconda3/envs/labelme/lib/python3.6/site-packages/requests_oauthlib/oauth2_session.py\u001b[0m in \u001b[0;36mtoken_from_fragment\u001b[0;34m(self, authorization_response)\u001b[0m\n\u001b[1;32m    317\u001b[0m         \"\"\"\n\u001b[1;32m    318\u001b[0m         self._client.parse_request_uri_response(authorization_response,\n\u001b[0;32m--> 319\u001b[0;31m                 state=self._state)\n\u001b[0m\u001b[1;32m    320\u001b[0m         \u001b[0mself\u001b[0m\u001b[0;34m.\u001b[0m\u001b[0mtoken\u001b[0m \u001b[0;34m=\u001b[0m \u001b[0mself\u001b[0m\u001b[0;34m.\u001b[0m\u001b[0m_client\u001b[0m\u001b[0;34m.\u001b[0m\u001b[0mtoken\u001b[0m\u001b[0;34m\u001b[0m\u001b[0;34m\u001b[0m\u001b[0m\n\u001b[1;32m    321\u001b[0m         \u001b[0;32mreturn\u001b[0m \u001b[0mself\u001b[0m\u001b[0;34m.\u001b[0m\u001b[0mtoken\u001b[0m\u001b[0;34m\u001b[0m\u001b[0;34m\u001b[0m\u001b[0m\n",
      "\u001b[0;32m~/miniconda3/envs/labelme/lib/python3.6/site-packages/oauthlib/oauth2/rfc6749/clients/mobile_application.py\u001b[0m in \u001b[0;36mparse_request_uri_response\u001b[0;34m(self, uri, state, scope)\u001b[0m\n\u001b[1;32m    170\u001b[0m         \u001b[0;34m.\u001b[0m\u001b[0;34m.\u001b[0m \u001b[0m_\u001b[0m\u001b[0;31m`\u001b[0m\u001b[0mSection\u001b[0m \u001b[0;36m3.3\u001b[0m\u001b[0;31m`\u001b[0m\u001b[0;34m:\u001b[0m \u001b[0mhttps\u001b[0m\u001b[0;34m:\u001b[0m\u001b[0;34m//\u001b[0m\u001b[0mtools\u001b[0m\u001b[0;34m.\u001b[0m\u001b[0mietf\u001b[0m\u001b[0;34m.\u001b[0m\u001b[0morg\u001b[0m\u001b[0;34m/\u001b[0m\u001b[0mhtml\u001b[0m\u001b[0;34m/\u001b[0m\u001b[0mrfc6749\u001b[0m\u001b[0;31m#section-3.3\u001b[0m\u001b[0;34m\u001b[0m\u001b[0;34m\u001b[0m\u001b[0m\n\u001b[1;32m    171\u001b[0m         \"\"\"\n\u001b[0;32m--> 172\u001b[0;31m         \u001b[0mself\u001b[0m\u001b[0;34m.\u001b[0m\u001b[0mtoken\u001b[0m \u001b[0;34m=\u001b[0m \u001b[0mparse_implicit_response\u001b[0m\u001b[0;34m(\u001b[0m\u001b[0muri\u001b[0m\u001b[0;34m,\u001b[0m \u001b[0mstate\u001b[0m\u001b[0;34m=\u001b[0m\u001b[0mstate\u001b[0m\u001b[0;34m,\u001b[0m \u001b[0mscope\u001b[0m\u001b[0;34m=\u001b[0m\u001b[0mscope\u001b[0m\u001b[0;34m)\u001b[0m\u001b[0;34m\u001b[0m\u001b[0;34m\u001b[0m\u001b[0m\n\u001b[0m\u001b[1;32m    173\u001b[0m         \u001b[0mself\u001b[0m\u001b[0;34m.\u001b[0m\u001b[0mpopulate_token_attributes\u001b[0m\u001b[0;34m(\u001b[0m\u001b[0mself\u001b[0m\u001b[0;34m.\u001b[0m\u001b[0mtoken\u001b[0m\u001b[0;34m)\u001b[0m\u001b[0;34m\u001b[0m\u001b[0;34m\u001b[0m\u001b[0m\n\u001b[1;32m    174\u001b[0m         \u001b[0;32mreturn\u001b[0m \u001b[0mself\u001b[0m\u001b[0;34m.\u001b[0m\u001b[0mtoken\u001b[0m\u001b[0;34m\u001b[0m\u001b[0;34m\u001b[0m\u001b[0m\n",
      "\u001b[0;32m~/miniconda3/envs/labelme/lib/python3.6/site-packages/oauthlib/oauth2/rfc6749/parameters.py\u001b[0m in \u001b[0;36mparse_implicit_response\u001b[0;34m(uri, state, scope)\u001b[0m\n\u001b[1;32m    339\u001b[0m \u001b[0;34m\u001b[0m\u001b[0m\n\u001b[1;32m    340\u001b[0m     \u001b[0;32mif\u001b[0m \u001b[0mstate\u001b[0m \u001b[0;32mand\u001b[0m \u001b[0mparams\u001b[0m\u001b[0;34m.\u001b[0m\u001b[0mget\u001b[0m\u001b[0;34m(\u001b[0m\u001b[0;34m'state'\u001b[0m\u001b[0;34m,\u001b[0m \u001b[0;32mNone\u001b[0m\u001b[0;34m)\u001b[0m \u001b[0;34m!=\u001b[0m \u001b[0mstate\u001b[0m\u001b[0;34m:\u001b[0m\u001b[0;34m\u001b[0m\u001b[0;34m\u001b[0m\u001b[0m\n\u001b[0;32m--> 341\u001b[0;31m         \u001b[0;32mraise\u001b[0m \u001b[0mValueError\u001b[0m\u001b[0;34m(\u001b[0m\u001b[0;34m\"Mismatching or missing state in params.\"\u001b[0m\u001b[0;34m)\u001b[0m\u001b[0;34m\u001b[0m\u001b[0;34m\u001b[0m\u001b[0m\n\u001b[0m\u001b[1;32m    342\u001b[0m \u001b[0;34m\u001b[0m\u001b[0m\n\u001b[1;32m    343\u001b[0m     \u001b[0mparams\u001b[0m \u001b[0;34m=\u001b[0m \u001b[0mOAuth2Token\u001b[0m\u001b[0;34m(\u001b[0m\u001b[0mparams\u001b[0m\u001b[0;34m,\u001b[0m \u001b[0mold_scope\u001b[0m\u001b[0;34m=\u001b[0m\u001b[0mscope\u001b[0m\u001b[0;34m)\u001b[0m\u001b[0;34m\u001b[0m\u001b[0;34m\u001b[0m\u001b[0m\n",
      "\u001b[0;31mValueError\u001b[0m: Mismatching or missing state in params."
     ]
    }
   ],
   "source": [
    "oauth.token_from_fragment(response.url)"
   ]
  },
  {
   "cell_type": "code",
   "execution_count": 19,
   "metadata": {},
   "outputs": [],
   "source": [
    "from oauthlib.oauth2 import LegacyApplicationClient\n",
    "\n",
    "oauth = OAuth2Session(client=LegacyApplicationClient(client_id=client_id), scope=scope)\n",
    "token = oauth.fetch_token(\n",
    "    token_url=token_uri, \n",
    "    username=\"jaydonbixenman@hotmail.com\", \n",
    "    password=\"password\", \n",
    "    client_id=client_id, \n",
    "    client_secret=client_secret)\n"
   ]
  },
  {
   "cell_type": "code",
   "execution_count": 21,
   "metadata": {},
   "outputs": [
    {
     "name": "stdout",
     "output_type": "stream",
     "text": [
      "{'access_token': 'j3nlIdmAW6zi4DMrfjGwJQ-ZxFek4HRYeoPvDzetggA', 'token_type': 'Bearer', 'expires_in': 7200, 'refresh_token': 'SPQ0jXuBiaaNd-Kt_fPyt6YecT7Xw_4YfXa3ekNVVsE', 'scope': ['user'], 'created_at': 1571327395, 'expires_at': 1571334596.067241}\n",
      "<class 'oauthlib.oauth2.rfc6749.tokens.OAuth2Token'>\n"
     ]
    }
   ],
   "source": [
    "print(token)\n",
    "print(type(token))"
   ]
  },
  {
   "cell_type": "code",
   "execution_count": null,
   "metadata": {},
   "outputs": [],
   "source": []
  }
 ],
 "metadata": {
  "kernelspec": {
   "display_name": "Python 3",
   "language": "python",
   "name": "python3"
  },
  "language_info": {
   "codemirror_mode": {
    "name": "ipython",
    "version": 3
   },
   "file_extension": ".py",
   "mimetype": "text/x-python",
   "name": "python",
   "nbconvert_exporter": "python",
   "pygments_lexer": "ipython3",
   "version": "3.6.9"
  }
 },
 "nbformat": 4,
 "nbformat_minor": 2
}
