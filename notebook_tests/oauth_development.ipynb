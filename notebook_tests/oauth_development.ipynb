{
 "cells": [
  {
   "cell_type": "code",
   "execution_count": 1,
   "metadata": {},
   "outputs": [],
   "source": [
    "import requests_oauthlib\n",
    "import requests"
   ]
  },
  {
   "cell_type": "code",
   "execution_count": 6,
   "metadata": {},
   "outputs": [],
   "source": [
    "client_id = 'zLjOtEumL2rurN5YsNMuKRK9PR5wuLPrBGQTSQvmf5U'\n",
    "client_secret = 'PJ6aLnVpAC77Ad7-Yg1coVCGm1zbNH1znk8MMWprm8Q'\n",
    "redirect_uri = 'cowcounteroauth://connect/callback'\n",
    "base = 'https://58a36bc0.ngrok.io'\n",
    "authorization_uri = base + \"/oauth/authorize\"\n",
    "token_uri = base + \"/oauth/token\"\n",
    "scope = \"user\"\n",
    "\n"
   ]
  },
  {
   "cell_type": "code",
   "execution_count": 7,
   "metadata": {},
   "outputs": [],
   "source": [
    "from requests_oauthlib import OAuth2Session\n",
    "from oauthlib.oauth2 import LegacyApplicationClient\n",
    "\n",
    "oauth = OAuth2Session(client=LegacyApplicationClient(client_id=client_id), scope=scope)\n",
    "token = oauth.fetch_token(\n",
    "    token_url=token_uri, \n",
    "    username=\"jaydonbixenman@hotmail.com\", \n",
    "    password=\"password\", \n",
    "    client_id=client_id, \n",
    "    client_secret=client_secret)\n"
   ]
  },
  {
   "cell_type": "code",
   "execution_count": 8,
   "metadata": {},
   "outputs": [
    {
     "name": "stdout",
     "output_type": "stream",
     "text": [
      "{'access_token': 'VWmbbATRrdCwFOGo4Wh4JYu1zevP0dIJMH0TYujQqB8', 'token_type': 'Bearer', 'expires_in': 7200, 'refresh_token': 'yq5bCCyO1N9yZ57wU21DbD5dHexns9A_rxG_ar5_pxI', 'scope': ['user'], 'created_at': 1571430616, 'expires_at': 1571437816.523075}\n",
      "<class 'oauthlib.oauth2.rfc6749.tokens.OAuth2Token'>\n"
     ]
    }
   ],
   "source": [
    "print(token)\n",
    "print(type(token))"
   ]
  },
  {
   "cell_type": "code",
   "execution_count": 9,
   "metadata": {},
   "outputs": [
    {
     "data": {
      "text/plain": [
       "{'access_token': 'b0o8NPCTkdJ_87_hVDBKKrVfJTcJHVZNxtydXwG8FVw',\n",
       " 'token_type': 'Bearer',\n",
       " 'expires_in': 7200,\n",
       " 'refresh_token': 'usrQaZeU0Gx7fOx6zacOPm5UbbfcAk9ulmaktukHQjU',\n",
       " 'scope': ['user'],\n",
       " 'created_at': 1571430619,\n",
       " 'expires_at': 1571437819.726599}"
      ]
     },
     "execution_count": 9,
     "metadata": {},
     "output_type": "execute_result"
    }
   ],
   "source": [
    "#print(token['refresh_token'])\n",
    "oauth.refresh_token(token_uri, refresh_token=token['refresh_token'], client_id=client_id, client_secret=client_secret)"
   ]
  },
  {
   "cell_type": "code",
   "execution_count": null,
   "metadata": {},
   "outputs": [],
   "source": []
  },
  {
   "cell_type": "code",
   "execution_count": null,
   "metadata": {},
   "outputs": [],
   "source": []
  }
 ],
 "metadata": {
  "kernelspec": {
   "display_name": "Python 3",
   "language": "python",
   "name": "python3"
  },
  "language_info": {
   "codemirror_mode": {
    "name": "ipython",
    "version": 3
   },
   "file_extension": ".py",
   "mimetype": "text/x-python",
   "name": "python",
   "nbconvert_exporter": "python",
   "pygments_lexer": "ipython3",
   "version": "3.6.0"
  }
 },
 "nbformat": 4,
 "nbformat_minor": 2
}
